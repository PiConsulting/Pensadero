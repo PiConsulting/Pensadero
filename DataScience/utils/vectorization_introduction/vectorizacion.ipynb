{
  "cells": [
    {
      "cell_type": "markdown",
      "source": [
        "# Introducción a la vectorización"
      ],
      "metadata": {
        "nteract": {
          "transient": {
            "deleting": false
          }
        }
      }
    },
    {
      "cell_type": "markdown",
      "source": [
        "Python es un lenguaje interpretado. Esto significa que a la hora de ejecutarse un script, un intérprete lee la instrucción en tiempo real y la ejecuta. Esto ocasiona que sea un lenguaje más lento en comparación a lenguajes compilados como C."
      ],
      "metadata": {
        "nteract": {
          "transient": {
            "deleting": false
          }
        }
      }
    },
    {
      "cell_type": "markdown",
      "source": [
        "Esta diferencia en los tiempos de ejecución es particularmente notoria cuando se ejecutan for-loops. Los lenguajes compilados pueden anticiparse a las iteraciones siguientes y guardar la memoria necesaria para ellas o en algunos casos ejecutarlas en paralelo, mientras que Python debe esperar que cada iteración termine para interpretar la siguiente. Por lo que el tiempo de ejecución resulta proporcional a n^2, siendo n la cantidad de iteraciones, mientras que en ciertos lenguajes compilados llega a ser lineal con n."
      ],
      "metadata": {
        "nteract": {
          "transient": {
            "deleting": false
          }
        }
      }
    },
    {
      "cell_type": "markdown",
      "source": [
        "Acá aparece el término vectorización, que aplica a re-estructurar código para evitar loops explícitos en python reemplazándolos con expresiones dependientes de arrays, y/o utilizando métodos de librerías ya preparados para tal operación, como lo es Numpy, que utiliza código C ya optimizado y compilado para ejecutar determinadas operaciones."
      ],
      "metadata": {
        "nteract": {
          "transient": {
            "deleting": false
          }
        }
      }
    },
    {
      "cell_type": "markdown",
      "source": [
        "Ejemplo simple: diferencia en tiempos de ejecución para producto vectorial entre dos vectores de dimensiones (nx1) y (1Xm), con y sin uso de loops explícitos."
      ],
      "metadata": {
        "nteract": {
          "transient": {
            "deleting": false
          }
        }
      }
    },
    {
      "cell_type": "markdown",
      "source": [
        "![image-alt-text](https://miro.medium.com/max/720/1*BwHV54X2d6BnGi6FW1K7jw.png)"
      ],
      "metadata": {
        "nteract": {
          "transient": {
            "deleting": false
          }
        }
      }
    },
    {
      "cell_type": "code",
      "source": [
        "import numpy as np\r\n",
        "import time\r\n",
        "\r\n",
        "a = np.arange(10000)\r\n",
        "b = np.arange(10000)\r\n",
        "\r\n",
        "# usando puramente python\r\n",
        "tic = time.process_time()\r\n",
        "outer_product = np.zeros((10000, 10000))\r\n",
        "for i in range(len(a)):\r\n",
        "    for j in range(len(b)):\r\n",
        "        outer_product[i][j]= a[i] * b[j]\r\n",
        "toc = time.process_time()\r\n",
        "\r\n",
        "print(\"python_outer_product = \"+ str(outer_product))\r\n",
        "print(\"Time = \"+str(1000*(toc - tic ))+\"ms\\n\")\r\n",
        "\r\n",
        "# usando numpy\r\n",
        "n_tic = time.process_time()\r\n",
        "outer_product = np.outer(a, b)\r\n",
        "n_toc = time.process_time()\r\n",
        "print(\"numpy_outer_product = \"+str(outer_product))\r\n",
        "print(\"Time = \"+str(1000*(n_toc - n_tic ))+\"ms\")"
      ],
      "outputs": [
        {
          "output_type": "stream",
          "name": "stdout",
          "text": "python_outer_product = [[0.0000000e+00 0.0000000e+00 0.0000000e+00 ... 0.0000000e+00\n  0.0000000e+00 0.0000000e+00]\n [0.0000000e+00 1.0000000e+00 2.0000000e+00 ... 9.9970000e+03\n  9.9980000e+03 9.9990000e+03]\n [0.0000000e+00 2.0000000e+00 4.0000000e+00 ... 1.9994000e+04\n  1.9996000e+04 1.9998000e+04]\n ...\n [0.0000000e+00 9.9970000e+03 1.9994000e+04 ... 9.9940009e+07\n  9.9950006e+07 9.9960003e+07]\n [0.0000000e+00 9.9980000e+03 1.9996000e+04 ... 9.9950006e+07\n  9.9960004e+07 9.9970002e+07]\n [0.0000000e+00 9.9990000e+03 1.9998000e+04 ... 9.9960003e+07\n  9.9970002e+07 9.9980001e+07]]\nTime = 55550.4517ms\n\nnumpy_outer_product = [[       0        0        0 ...        0        0        0]\n [       0        1        2 ...     9997     9998     9999]\n [       0        2        4 ...    19994    19996    19998]\n ...\n [       0     9997    19994 ... 99940009 99950006 99960003]\n [       0     9998    19996 ... 99950006 99960004 99970002]\n [       0     9999    19998 ... 99960003 99970002 99980001]]\nTime = 255.1670999999942ms\n"
        }
      ],
      "execution_count": 25,
      "metadata": {
        "jupyter": {
          "source_hidden": false,
          "outputs_hidden": false
        },
        "nteract": {
          "transient": {
            "deleting": false
          }
        },
        "gather": {
          "logged": 1666272919755
        }
      }
    },
    {
      "cell_type": "markdown",
      "source": [
        "Caso de estudio: re-sampleo de dataframe (en variable de fecha) y estimación de variables de rolling mean sobre diferentes longitud de ventana (sobre variable de target), agrupado de acuerdo a una o más variables."
      ],
      "metadata": {
        "nteract": {
          "transient": {
            "deleting": false
          }
        }
      }
    },
    {
      "cell_type": "code",
      "source": [
        "# Librerías necesarias y conexión a azure ml workspace\r\n",
        "from azureml.core import Datastore, Workspace, Dataset\r\n",
        "import pandas as pd\r\n",
        "import numpy as np\r\n",
        "import time\r\n",
        "\r\n",
        "ws = Workspace.from_config()\r\n",
        "ds = Datastore(ws, name='brewdat_sandbox_131')"
      ],
      "outputs": [],
      "execution_count": 26,
      "metadata": {
        "jupyter": {
          "source_hidden": false,
          "outputs_hidden": false
        },
        "nteract": {
          "transient": {
            "deleting": false
          }
        },
        "gather": {
          "logged": 1666272920716
        }
      }
    },
    {
      "cell_type": "code",
      "source": [
        "# Leyendo la data\r\n",
        "df = pd.read_parquet(\"h/df.parquet\")\r\n",
        "df = df[list(df.columns)[:17]]\r\n",
        "df = df.drop_duplicates()\r\n",
        "df.shape"
      ],
      "outputs": [
        {
          "output_type": "execute_result",
          "execution_count": 49,
          "data": {
            "text/plain": "(10718210, 17)"
          },
          "metadata": {}
        }
      ],
      "execution_count": 49,
      "metadata": {
        "jupyter": {
          "source_hidden": false,
          "outputs_hidden": false
        },
        "nteract": {
          "transient": {
            "deleting": false
          }
        },
        "gather": {
          "logged": 1666286440842
        }
      }
    },
    {
      "cell_type": "markdown",
      "source": [
        "'target_rolling_mean_n' es la media de los previos n valores de 'target' con respecto a la fecha actual, es decir, [ x(t-1) + x(t-2) + ... x(t-n)]/n . En caso de que algunos de esos n valores no exista entonces la suma de los valores previos que no son NaN se divide por dicha cantidad."
      ],
      "metadata": {
        "nteract": {
          "transient": {
            "deleting": false
          }
        }
      }
    },
    {
      "cell_type": "code",
      "source": [
        "# Creación de Dataframe simple correspondiente a una serie temporal para dos grupos 'g1' y 'g2'\r\n",
        "dfx = pd.DataFrame(columns=['grupo', 'fecha', 'target'])\r\n",
        "dfx['fecha'] = ['01-01-2022', '01-03-2022', '01-04-2022', '01-05-2022', '01-06-2022', '01-07-2022', '01-08-2022', '01-09-2022', '01-02-2022', '01-03-2022', '01-04-2022', '01-05-2022', '01-06-2022', '01-09-2022']\r\n",
        "dfx['fecha'] = pd.to_datetime(dfx['fecha'],format=\"%d-%m-%Y\")\r\n",
        "dfx['grupo'] = ['g1', 'g1','g1','g1','g1','g1','g1','g1','g2','g2','g2','g2','g2','g2']\r\n",
        "dfx['target'] = np.random.randint(100, size=14)\r\n",
        "dfx"
      ],
      "outputs": [
        {
          "output_type": "execute_result",
          "execution_count": 28,
          "data": {
            "text/plain": "   grupo      fecha  target\n0     g1 2022-01-01      93\n1     g1 2022-03-01      46\n2     g1 2022-04-01       6\n3     g1 2022-05-01      29\n4     g1 2022-06-01      87\n5     g1 2022-07-01      95\n6     g1 2022-08-01      26\n7     g1 2022-09-01      58\n8     g2 2022-02-01      79\n9     g2 2022-03-01      31\n10    g2 2022-04-01      66\n11    g2 2022-05-01      67\n12    g2 2022-06-01      69\n13    g2 2022-09-01      90",
            "text/html": "<div>\n<style scoped>\n    .dataframe tbody tr th:only-of-type {\n        vertical-align: middle;\n    }\n\n    .dataframe tbody tr th {\n        vertical-align: top;\n    }\n\n    .dataframe thead th {\n        text-align: right;\n    }\n</style>\n<table border=\"1\" class=\"dataframe\">\n  <thead>\n    <tr style=\"text-align: right;\">\n      <th></th>\n      <th>grupo</th>\n      <th>fecha</th>\n      <th>target</th>\n    </tr>\n  </thead>\n  <tbody>\n    <tr>\n      <th>0</th>\n      <td>g1</td>\n      <td>2022-01-01</td>\n      <td>93</td>\n    </tr>\n    <tr>\n      <th>1</th>\n      <td>g1</td>\n      <td>2022-03-01</td>\n      <td>46</td>\n    </tr>\n    <tr>\n      <th>2</th>\n      <td>g1</td>\n      <td>2022-04-01</td>\n      <td>6</td>\n    </tr>\n    <tr>\n      <th>3</th>\n      <td>g1</td>\n      <td>2022-05-01</td>\n      <td>29</td>\n    </tr>\n    <tr>\n      <th>4</th>\n      <td>g1</td>\n      <td>2022-06-01</td>\n      <td>87</td>\n    </tr>\n    <tr>\n      <th>5</th>\n      <td>g1</td>\n      <td>2022-07-01</td>\n      <td>95</td>\n    </tr>\n    <tr>\n      <th>6</th>\n      <td>g1</td>\n      <td>2022-08-01</td>\n      <td>26</td>\n    </tr>\n    <tr>\n      <th>7</th>\n      <td>g1</td>\n      <td>2022-09-01</td>\n      <td>58</td>\n    </tr>\n    <tr>\n      <th>8</th>\n      <td>g2</td>\n      <td>2022-02-01</td>\n      <td>79</td>\n    </tr>\n    <tr>\n      <th>9</th>\n      <td>g2</td>\n      <td>2022-03-01</td>\n      <td>31</td>\n    </tr>\n    <tr>\n      <th>10</th>\n      <td>g2</td>\n      <td>2022-04-01</td>\n      <td>66</td>\n    </tr>\n    <tr>\n      <th>11</th>\n      <td>g2</td>\n      <td>2022-05-01</td>\n      <td>67</td>\n    </tr>\n    <tr>\n      <th>12</th>\n      <td>g2</td>\n      <td>2022-06-01</td>\n      <td>69</td>\n    </tr>\n    <tr>\n      <th>13</th>\n      <td>g2</td>\n      <td>2022-09-01</td>\n      <td>90</td>\n    </tr>\n  </tbody>\n</table>\n</div>"
          },
          "metadata": {}
        }
      ],
      "execution_count": 28,
      "metadata": {
        "jupyter": {
          "source_hidden": false,
          "outputs_hidden": false
        },
        "nteract": {
          "transient": {
            "deleting": false
          }
        },
        "gather": {
          "logged": 1666272967170
        }
      }
    },
    {
      "cell_type": "code",
      "source": [
        "# Probando creación de rolling mean con ventana 2 por grupo sin resample.. resultados no correctos\r\n",
        "dfx3 = dfx.sort_values(['grupo','fecha']).copy()\r\n",
        "# Shift en la variable de target para utilización de pandas rolling\r\n",
        "dfx3['target_shift'] = dfx3.groupby('grupo').target.shift()\r\n",
        "dfx3['target_shift'] = dfx3.target_shift.where(dfx3.groupby('grupo').fecha.diff() <= '32 days', np.nan)\r\n",
        "# Seteo de variable de fecha como índice para utilización de rolling con offset de fecha\r\n",
        "dfx3 = dfx3.set_index('fecha')\r\n",
        "dfx3['target_rolling_mean_2'] = dfx3.groupby('grupo').target_shift.rolling(\"60D\", min_periods=1).mean().values\r\n",
        "dfx3 = dfx3.reset_index()\r\n",
        "dfx3"
      ],
      "outputs": [
        {
          "output_type": "execute_result",
          "execution_count": 29,
          "data": {
            "text/plain": "        fecha grupo  target  target_shift  target_rolling_mean_2\n0  2022-01-01    g1      93           NaN                    NaN\n1  2022-03-01    g1      46           NaN                    NaN\n2  2022-04-01    g1       6          46.0                   46.0\n3  2022-05-01    g1      29           6.0                   26.0\n4  2022-06-01    g1      87          29.0                   17.5\n5  2022-07-01    g1      95          87.0                   58.0\n6  2022-08-01    g1      26          95.0                   91.0\n7  2022-09-01    g1      58          26.0                   60.5\n8  2022-02-01    g2      79           NaN                    NaN\n9  2022-03-01    g2      31          79.0                   79.0\n10 2022-04-01    g2      66          31.0                   55.0\n11 2022-05-01    g2      67          66.0                   48.5\n12 2022-06-01    g2      69          67.0                   66.5\n13 2022-09-01    g2      90           NaN                    NaN",
            "text/html": "<div>\n<style scoped>\n    .dataframe tbody tr th:only-of-type {\n        vertical-align: middle;\n    }\n\n    .dataframe tbody tr th {\n        vertical-align: top;\n    }\n\n    .dataframe thead th {\n        text-align: right;\n    }\n</style>\n<table border=\"1\" class=\"dataframe\">\n  <thead>\n    <tr style=\"text-align: right;\">\n      <th></th>\n      <th>fecha</th>\n      <th>grupo</th>\n      <th>target</th>\n      <th>target_shift</th>\n      <th>target_rolling_mean_2</th>\n    </tr>\n  </thead>\n  <tbody>\n    <tr>\n      <th>0</th>\n      <td>2022-01-01</td>\n      <td>g1</td>\n      <td>93</td>\n      <td>NaN</td>\n      <td>NaN</td>\n    </tr>\n    <tr>\n      <th>1</th>\n      <td>2022-03-01</td>\n      <td>g1</td>\n      <td>46</td>\n      <td>NaN</td>\n      <td>NaN</td>\n    </tr>\n    <tr>\n      <th>2</th>\n      <td>2022-04-01</td>\n      <td>g1</td>\n      <td>6</td>\n      <td>46.0</td>\n      <td>46.0</td>\n    </tr>\n    <tr>\n      <th>3</th>\n      <td>2022-05-01</td>\n      <td>g1</td>\n      <td>29</td>\n      <td>6.0</td>\n      <td>26.0</td>\n    </tr>\n    <tr>\n      <th>4</th>\n      <td>2022-06-01</td>\n      <td>g1</td>\n      <td>87</td>\n      <td>29.0</td>\n      <td>17.5</td>\n    </tr>\n    <tr>\n      <th>5</th>\n      <td>2022-07-01</td>\n      <td>g1</td>\n      <td>95</td>\n      <td>87.0</td>\n      <td>58.0</td>\n    </tr>\n    <tr>\n      <th>6</th>\n      <td>2022-08-01</td>\n      <td>g1</td>\n      <td>26</td>\n      <td>95.0</td>\n      <td>91.0</td>\n    </tr>\n    <tr>\n      <th>7</th>\n      <td>2022-09-01</td>\n      <td>g1</td>\n      <td>58</td>\n      <td>26.0</td>\n      <td>60.5</td>\n    </tr>\n    <tr>\n      <th>8</th>\n      <td>2022-02-01</td>\n      <td>g2</td>\n      <td>79</td>\n      <td>NaN</td>\n      <td>NaN</td>\n    </tr>\n    <tr>\n      <th>9</th>\n      <td>2022-03-01</td>\n      <td>g2</td>\n      <td>31</td>\n      <td>79.0</td>\n      <td>79.0</td>\n    </tr>\n    <tr>\n      <th>10</th>\n      <td>2022-04-01</td>\n      <td>g2</td>\n      <td>66</td>\n      <td>31.0</td>\n      <td>55.0</td>\n    </tr>\n    <tr>\n      <th>11</th>\n      <td>2022-05-01</td>\n      <td>g2</td>\n      <td>67</td>\n      <td>66.0</td>\n      <td>48.5</td>\n    </tr>\n    <tr>\n      <th>12</th>\n      <td>2022-06-01</td>\n      <td>g2</td>\n      <td>69</td>\n      <td>67.0</td>\n      <td>66.5</td>\n    </tr>\n    <tr>\n      <th>13</th>\n      <td>2022-09-01</td>\n      <td>g2</td>\n      <td>90</td>\n      <td>NaN</td>\n      <td>NaN</td>\n    </tr>\n  </tbody>\n</table>\n</div>"
          },
          "metadata": {}
        }
      ],
      "execution_count": 29,
      "metadata": {
        "jupyter": {
          "source_hidden": false,
          "outputs_hidden": false
        },
        "nteract": {
          "transient": {
            "deleting": false
          }
        },
        "gather": {
          "logged": 1666272967519
        }
      }
    },
    {
      "cell_type": "code",
      "source": [
        "'''\r\n",
        "t0 = time.time()\r\n",
        "dfx['target_shiftt'] = dfx.groupby('grupo')['target'].shift(1)\r\n",
        "t1 = time.time()\r\n",
        "print(t1-t0)\r\n",
        "t2 = time.time()\r\n",
        "dfx['target_shift'] = dfx['target'].shift(1).where(dfx.grupo.eq(dfx.grupo.shift(1)))\r\n",
        "print(time.time()-t2)\r\n",
        "'''"
      ],
      "outputs": [],
      "execution_count": null,
      "metadata": {
        "jupyter": {
          "source_hidden": false,
          "outputs_hidden": false
        },
        "nteract": {
          "transient": {
            "deleting": false
          }
        },
        "gather": {
          "logged": 1666025486203
        }
      }
    },
    {
      "cell_type": "code",
      "source": [
        "# Probando creación de rolling mean con ventana 2 por grupo con resample..\r\n",
        "# Resample con método de pandas\r\n",
        "dfx2 = dfx.groupby('grupo').resample('MS', on='fecha').last().drop(columns=['grupo', 'fecha']).reset_index().copy()\r\n",
        "\r\n",
        "dfx2.sort_values(['grupo', 'fecha'], inplace=True)\r\n",
        "# Creando target shifteado para utilizar correctamente el rolling\r\n",
        "dfx2['target_shift'] = dfx2['target'].shift().where(dfx2.grupo.eq(dfx2.grupo.shift())) # dfx2.groupby('grupo)['target'].shift(1)\r\n",
        "#dfx2['target_shift'] = dfx2['target_shift].where(dfx2.grupo.eq(dfx2.grupo.shift()))\r\n",
        "dfx2['target_rolling_mean_2b'] = dfx2.groupby('grupo')['target_shift'].rolling(window=2, min_periods=0).mean().values\r\n",
        "dfx2"
      ],
      "outputs": [
        {
          "output_type": "execute_result",
          "execution_count": 30,
          "data": {
            "text/plain": "   grupo      fecha  target  target_shift  target_rolling_mean_2b\n0     g1 2022-01-01    93.0           NaN                     NaN\n1     g1 2022-02-01     NaN          93.0                    93.0\n2     g1 2022-03-01    46.0           NaN                    93.0\n3     g1 2022-04-01     6.0          46.0                    46.0\n4     g1 2022-05-01    29.0           6.0                    26.0\n5     g1 2022-06-01    87.0          29.0                    17.5\n6     g1 2022-07-01    95.0          87.0                    58.0\n7     g1 2022-08-01    26.0          95.0                    91.0\n8     g1 2022-09-01    58.0          26.0                    60.5\n9     g2 2022-02-01    79.0           NaN                     NaN\n10    g2 2022-03-01    31.0          79.0                    79.0\n11    g2 2022-04-01    66.0          31.0                    55.0\n12    g2 2022-05-01    67.0          66.0                    48.5\n13    g2 2022-06-01    69.0          67.0                    66.5\n14    g2 2022-07-01     NaN          69.0                    68.0\n15    g2 2022-08-01     NaN           NaN                    69.0\n16    g2 2022-09-01    90.0           NaN                     NaN",
            "text/html": "<div>\n<style scoped>\n    .dataframe tbody tr th:only-of-type {\n        vertical-align: middle;\n    }\n\n    .dataframe tbody tr th {\n        vertical-align: top;\n    }\n\n    .dataframe thead th {\n        text-align: right;\n    }\n</style>\n<table border=\"1\" class=\"dataframe\">\n  <thead>\n    <tr style=\"text-align: right;\">\n      <th></th>\n      <th>grupo</th>\n      <th>fecha</th>\n      <th>target</th>\n      <th>target_shift</th>\n      <th>target_rolling_mean_2b</th>\n    </tr>\n  </thead>\n  <tbody>\n    <tr>\n      <th>0</th>\n      <td>g1</td>\n      <td>2022-01-01</td>\n      <td>93.0</td>\n      <td>NaN</td>\n      <td>NaN</td>\n    </tr>\n    <tr>\n      <th>1</th>\n      <td>g1</td>\n      <td>2022-02-01</td>\n      <td>NaN</td>\n      <td>93.0</td>\n      <td>93.0</td>\n    </tr>\n    <tr>\n      <th>2</th>\n      <td>g1</td>\n      <td>2022-03-01</td>\n      <td>46.0</td>\n      <td>NaN</td>\n      <td>93.0</td>\n    </tr>\n    <tr>\n      <th>3</th>\n      <td>g1</td>\n      <td>2022-04-01</td>\n      <td>6.0</td>\n      <td>46.0</td>\n      <td>46.0</td>\n    </tr>\n    <tr>\n      <th>4</th>\n      <td>g1</td>\n      <td>2022-05-01</td>\n      <td>29.0</td>\n      <td>6.0</td>\n      <td>26.0</td>\n    </tr>\n    <tr>\n      <th>5</th>\n      <td>g1</td>\n      <td>2022-06-01</td>\n      <td>87.0</td>\n      <td>29.0</td>\n      <td>17.5</td>\n    </tr>\n    <tr>\n      <th>6</th>\n      <td>g1</td>\n      <td>2022-07-01</td>\n      <td>95.0</td>\n      <td>87.0</td>\n      <td>58.0</td>\n    </tr>\n    <tr>\n      <th>7</th>\n      <td>g1</td>\n      <td>2022-08-01</td>\n      <td>26.0</td>\n      <td>95.0</td>\n      <td>91.0</td>\n    </tr>\n    <tr>\n      <th>8</th>\n      <td>g1</td>\n      <td>2022-09-01</td>\n      <td>58.0</td>\n      <td>26.0</td>\n      <td>60.5</td>\n    </tr>\n    <tr>\n      <th>9</th>\n      <td>g2</td>\n      <td>2022-02-01</td>\n      <td>79.0</td>\n      <td>NaN</td>\n      <td>NaN</td>\n    </tr>\n    <tr>\n      <th>10</th>\n      <td>g2</td>\n      <td>2022-03-01</td>\n      <td>31.0</td>\n      <td>79.0</td>\n      <td>79.0</td>\n    </tr>\n    <tr>\n      <th>11</th>\n      <td>g2</td>\n      <td>2022-04-01</td>\n      <td>66.0</td>\n      <td>31.0</td>\n      <td>55.0</td>\n    </tr>\n    <tr>\n      <th>12</th>\n      <td>g2</td>\n      <td>2022-05-01</td>\n      <td>67.0</td>\n      <td>66.0</td>\n      <td>48.5</td>\n    </tr>\n    <tr>\n      <th>13</th>\n      <td>g2</td>\n      <td>2022-06-01</td>\n      <td>69.0</td>\n      <td>67.0</td>\n      <td>66.5</td>\n    </tr>\n    <tr>\n      <th>14</th>\n      <td>g2</td>\n      <td>2022-07-01</td>\n      <td>NaN</td>\n      <td>69.0</td>\n      <td>68.0</td>\n    </tr>\n    <tr>\n      <th>15</th>\n      <td>g2</td>\n      <td>2022-08-01</td>\n      <td>NaN</td>\n      <td>NaN</td>\n      <td>69.0</td>\n    </tr>\n    <tr>\n      <th>16</th>\n      <td>g2</td>\n      <td>2022-09-01</td>\n      <td>90.0</td>\n      <td>NaN</td>\n      <td>NaN</td>\n    </tr>\n  </tbody>\n</table>\n</div>"
          },
          "metadata": {}
        }
      ],
      "execution_count": 30,
      "metadata": {
        "jupyter": {
          "source_hidden": false,
          "outputs_hidden": false
        },
        "nteract": {
          "transient": {
            "deleting": false
          }
        },
        "gather": {
          "logged": 1666272967724
        }
      }
    },
    {
      "cell_type": "code",
      "source": [
        "# Mergeo df original con el resampleado para traer las columnas calculadas solo a las fechas del df original\r\n",
        "dfx = pd.merge(dfx[['grupo', 'fecha']], dfx2, on=['grupo', 'fecha'], how='inner')\r\n",
        "dfx"
      ],
      "outputs": [
        {
          "output_type": "execute_result",
          "execution_count": 31,
          "data": {
            "text/plain": "   grupo      fecha  target  target_shift  target_rolling_mean_2b\n0     g1 2022-01-01    93.0           NaN                     NaN\n1     g1 2022-03-01    46.0           NaN                    93.0\n2     g1 2022-04-01     6.0          46.0                    46.0\n3     g1 2022-05-01    29.0           6.0                    26.0\n4     g1 2022-06-01    87.0          29.0                    17.5\n5     g1 2022-07-01    95.0          87.0                    58.0\n6     g1 2022-08-01    26.0          95.0                    91.0\n7     g1 2022-09-01    58.0          26.0                    60.5\n8     g2 2022-02-01    79.0           NaN                     NaN\n9     g2 2022-03-01    31.0          79.0                    79.0\n10    g2 2022-04-01    66.0          31.0                    55.0\n11    g2 2022-05-01    67.0          66.0                    48.5\n12    g2 2022-06-01    69.0          67.0                    66.5\n13    g2 2022-09-01    90.0           NaN                     NaN",
            "text/html": "<div>\n<style scoped>\n    .dataframe tbody tr th:only-of-type {\n        vertical-align: middle;\n    }\n\n    .dataframe tbody tr th {\n        vertical-align: top;\n    }\n\n    .dataframe thead th {\n        text-align: right;\n    }\n</style>\n<table border=\"1\" class=\"dataframe\">\n  <thead>\n    <tr style=\"text-align: right;\">\n      <th></th>\n      <th>grupo</th>\n      <th>fecha</th>\n      <th>target</th>\n      <th>target_shift</th>\n      <th>target_rolling_mean_2b</th>\n    </tr>\n  </thead>\n  <tbody>\n    <tr>\n      <th>0</th>\n      <td>g1</td>\n      <td>2022-01-01</td>\n      <td>93.0</td>\n      <td>NaN</td>\n      <td>NaN</td>\n    </tr>\n    <tr>\n      <th>1</th>\n      <td>g1</td>\n      <td>2022-03-01</td>\n      <td>46.0</td>\n      <td>NaN</td>\n      <td>93.0</td>\n    </tr>\n    <tr>\n      <th>2</th>\n      <td>g1</td>\n      <td>2022-04-01</td>\n      <td>6.0</td>\n      <td>46.0</td>\n      <td>46.0</td>\n    </tr>\n    <tr>\n      <th>3</th>\n      <td>g1</td>\n      <td>2022-05-01</td>\n      <td>29.0</td>\n      <td>6.0</td>\n      <td>26.0</td>\n    </tr>\n    <tr>\n      <th>4</th>\n      <td>g1</td>\n      <td>2022-06-01</td>\n      <td>87.0</td>\n      <td>29.0</td>\n      <td>17.5</td>\n    </tr>\n    <tr>\n      <th>5</th>\n      <td>g1</td>\n      <td>2022-07-01</td>\n      <td>95.0</td>\n      <td>87.0</td>\n      <td>58.0</td>\n    </tr>\n    <tr>\n      <th>6</th>\n      <td>g1</td>\n      <td>2022-08-01</td>\n      <td>26.0</td>\n      <td>95.0</td>\n      <td>91.0</td>\n    </tr>\n    <tr>\n      <th>7</th>\n      <td>g1</td>\n      <td>2022-09-01</td>\n      <td>58.0</td>\n      <td>26.0</td>\n      <td>60.5</td>\n    </tr>\n    <tr>\n      <th>8</th>\n      <td>g2</td>\n      <td>2022-02-01</td>\n      <td>79.0</td>\n      <td>NaN</td>\n      <td>NaN</td>\n    </tr>\n    <tr>\n      <th>9</th>\n      <td>g2</td>\n      <td>2022-03-01</td>\n      <td>31.0</td>\n      <td>79.0</td>\n      <td>79.0</td>\n    </tr>\n    <tr>\n      <th>10</th>\n      <td>g2</td>\n      <td>2022-04-01</td>\n      <td>66.0</td>\n      <td>31.0</td>\n      <td>55.0</td>\n    </tr>\n    <tr>\n      <th>11</th>\n      <td>g2</td>\n      <td>2022-05-01</td>\n      <td>67.0</td>\n      <td>66.0</td>\n      <td>48.5</td>\n    </tr>\n    <tr>\n      <th>12</th>\n      <td>g2</td>\n      <td>2022-06-01</td>\n      <td>69.0</td>\n      <td>67.0</td>\n      <td>66.5</td>\n    </tr>\n    <tr>\n      <th>13</th>\n      <td>g2</td>\n      <td>2022-09-01</td>\n      <td>90.0</td>\n      <td>NaN</td>\n      <td>NaN</td>\n    </tr>\n  </tbody>\n</table>\n</div>"
          },
          "metadata": {}
        }
      ],
      "execution_count": 31,
      "metadata": {
        "jupyter": {
          "source_hidden": false,
          "outputs_hidden": false
        },
        "nteract": {
          "transient": {
            "deleting": false
          }
        },
        "gather": {
          "logged": 1666272967977
        }
      }
    },
    {
      "cell_type": "code",
      "source": [],
      "outputs": [],
      "execution_count": null,
      "metadata": {
        "jupyter": {
          "source_hidden": false,
          "outputs_hidden": false
        },
        "nteract": {
          "transient": {
            "deleting": false
          }
        }
      }
    },
    {
      "cell_type": "markdown",
      "source": [
        "# Trabajando con muestra de dataframe real"
      ],
      "metadata": {
        "nteract": {
          "transient": {
            "deleting": false
          }
        }
      }
    },
    {
      "cell_type": "code",
      "source": [
        "# Definiendo variables de agrupamiento y métricas sobre las que estimar las variables de rolling mean\r\n",
        "data_level = ['customer_code', 'brand', 'size', 'mth_date']\r\n",
        "groupby_level = ['customer_code', 'brand', 'size']\r\n",
        "metrics = ['total_volume_hl', 'invoice_count']\r\n",
        "\r\n",
        "df['entity_level'] = (df[groupby_level[0]].astype(str)+df[groupby_level[1]]+df[groupby_level[2]])\r\n",
        "df_entity_level_unique_values = df['entity_level'].unique()\r\n",
        "\r\n",
        "print(\"Cantidad de grupos en df completo\", len(df_entity_level_unique_values))\r\n",
        "# Defino dos dataframes con los primeros 10mil y 100mil grupos del total del df original\r\n",
        "df_test2 = df[df['entity_level'].isin(df_entity_level_unique_values[:10000])]\r\n",
        "df_test = df[df['entity_level'].isin(df_entity_level_unique_values[:100000])]\r\n",
        "df_test2.to_parquet(\"h/df_test2.parquet\")\r\n",
        "df_test.to_parquet(\"h/df_test.parquet\")"
      ],
      "outputs": [
        {
          "output_type": "stream",
          "name": "stdout",
          "text": "Cantidad de grupos en df completo 2228249\n"
        }
      ],
      "execution_count": 50,
      "metadata": {
        "jupyter": {
          "source_hidden": false,
          "outputs_hidden": false
        },
        "nteract": {
          "transient": {
            "deleting": false
          }
        },
        "gather": {
          "logged": 1666286457223
        }
      }
    },
    {
      "cell_type": "code",
      "source": [
        "'''\r\n",
        "df_test2 = df.copy()\r\n",
        "t0 = time.time()\r\n",
        "df_test2 = df_test2.sort_values(data_level)\r\n",
        "df_test2['target_shift'] = df_test2.groupby(groupby_level).total_volume_hl.shift()\r\n",
        "df_test2['target_shift'] = df_test2.target_shift.where(df_test2.groupby(groupby_level).mth_date.diff() <= '31 days', np.nan)\r\n",
        "df_test2 = df_test2.set_index('mth_date')\r\n",
        "t1 = time.time()\r\n",
        "df_test2['target_rolling_mean_2'] = df_test2.groupby(groupby_level).target_shift.rolling(\"60D\", min_periods=0).mean().values\r\n",
        "df_test2 = df_test2.reset_index()\r\n",
        "t2 = time.time()\r\n",
        "print(t2-t1, t1-t0)\r\n",
        "'''"
      ],
      "outputs": [],
      "execution_count": null,
      "metadata": {
        "jupyter": {
          "source_hidden": false,
          "outputs_hidden": false
        },
        "nteract": {
          "transient": {
            "deleting": false
          }
        },
        "gather": {
          "logged": 1666269913414
        }
      }
    },
    {
      "cell_type": "markdown",
      "source": [
        "# Empezar desde acá cargando los dataframes de prueba!"
      ],
      "metadata": {
        "nteract": {
          "transient": {
            "deleting": false
          }
        }
      }
    },
    {
      "cell_type": "code",
      "source": [
        "# Empezar de aquí cargando los dataframes \r\n",
        "import pandas as pd\r\n",
        "import numpy as np\r\n",
        "import time\r\n",
        "\r\n",
        "df_test2 = pd.read_parquet(\"h/df_test2.parquet\")\r\n",
        "df_test = pd.read_parquet(\"h/df_test.parquet\")"
      ],
      "outputs": [],
      "execution_count": null,
      "metadata": {
        "jupyter": {
          "source_hidden": false,
          "outputs_hidden": false
        },
        "nteract": {
          "transient": {
            "deleting": false
          }
        }
      }
    },
    {
      "cell_type": "markdown",
      "source": [
        "Testeando alternativa a Dataframe.resample()"
      ],
      "metadata": {
        "nteract": {
          "transient": {
            "deleting": false
          }
        }
      }
    },
    {
      "cell_type": "code",
      "source": [
        "# Utilizo como df a aquel con los primeros 10mil grupos del df original. El código de abajo es por si se quiere probar cuanto tarda la approach\r\n",
        "# alternativa para el df original completo.\r\n",
        "df = df_test2.copy()\r\n",
        "'''\r\n",
        "df = pd.read_parquet(\"h/df.parquet\")\r\n",
        "df = df[list(df.columns)[:17]]\r\n",
        "df = df.drop_duplicates()\r\n",
        "'''"
      ],
      "outputs": [
        {
          "output_type": "execute_result",
          "execution_count": 33,
          "data": {
            "text/plain": "'\\ndf = pd.read_parquet(\"h/df.parquet\")\\ndf = df[list(df.columns)[:17]]\\ndf = df.drop_duplicates()\\n'"
          },
          "metadata": {}
        }
      ],
      "execution_count": 33,
      "metadata": {
        "jupyter": {
          "source_hidden": false,
          "outputs_hidden": false
        },
        "nteract": {
          "transient": {
            "deleting": false
          }
        },
        "gather": {
          "logged": 1666272982203
        }
      }
    },
    {
      "cell_type": "code",
      "source": [
        "# Agregando columnas con la menor y mayor fecha para el grupo al que pertenece la fila correspondiente\r\n",
        "t0 = time.time()\r\n",
        "df['mth_date_min'] = df.groupby(groupby_level).mth_date.transform(min)\r\n",
        "df['mth_date_max'] = df.groupby(groupby_level).mth_date.transform(max)\r\n",
        "t1 = time.time()\r\n",
        "print(\"Tiempo para mapear las fechas mín y máx por grupo a todas las filas\", t1-t0)"
      ],
      "outputs": [
        {
          "output_type": "stream",
          "name": "stdout",
          "text": "Tiempo para mapear las fechas mín y máx por grupo a todas las filas 0.03944206237792969\n"
        }
      ],
      "execution_count": 34,
      "metadata": {
        "jupyter": {
          "source_hidden": false,
          "outputs_hidden": false
        },
        "nteract": {
          "transient": {
            "deleting": false
          }
        },
        "gather": {
          "logged": 1666272982511
        }
      }
    },
    {
      "cell_type": "code",
      "source": [
        "df"
      ],
      "outputs": [
        {
          "output_type": "execute_result",
          "execution_count": 35,
          "data": {
            "text/plain": "         customer_commercial_region customer_commercial_sub_region  \\\n0                     Central Bajío                  CMM Altiplano   \n3                     Central Bajío                  CMM Altiplano   \n6                     Central Bajío                    CMM Hidalgo   \n9                     Central Bajío                    CMM Hidalgo   \n12                    Central Bajío                    CMM Hidalgo   \n...                             ...                            ...   \n13440584              Central Bajío                    CMM Hidalgo   \n13440587              Central Bajío              CMM Metropolitana   \n13491243              Central Bajío                  CMM Altiplano   \n13571470              Central Bajío                  CMM Altiplano   \n14939115              Central Bajío                  CMM Altiplano   \n\n         customer_code segment   mth_date      brand   size product_line  \\\n0            100019764      42 2021-05-01  Barrilito  Media      Cerveza   \n3            100037257      42 2021-05-01  Barrilito  Media      Cerveza   \n6            100068004      42 2021-05-01  Barrilito  Media      Cerveza   \n9            100068069      42 2021-05-01  Barrilito  Media      Cerveza   \n12           100068135      42 2021-05-01  Barrilito  Media      Cerveza   \n...                ...     ...        ...        ...    ...          ...   \n13440584     101026196      43 2021-08-01  Barrilito  Media      Cerveza   \n13440587     101027184      43 2021-08-01  Barrilito  Media      Cerveza   \n13491243     100776062      45 2022-05-01  Barrilito  Media      Cerveza   \n13571470     100776062      45 2022-07-01  Barrilito  Media      Cerveza   \n14939115     100459590      66 2022-08-01  Barrilito  Media      Cerveza   \n\n         sector  invoice_count  total_volume_hl  total_discount  \\\n0          Core              1           0.0780          -25.21   \n3          Core              2           0.8580         -277.31   \n6          Core              1           0.3900         -126.05   \n9          Core              1           0.3900         -126.05   \n12         Core              1           0.3900         -175.80   \n...         ...            ...              ...             ...   \n13440584   Core              1           0.3900         -143.00   \n13440587   Core              1           0.0936            0.00   \n13491243   Core              1           0.3120         -128.08   \n13571470   Core              1           0.2340          -96.06   \n14939115   Core              3           0.0780          -20.44   \n\n          total_net_revenue  total_gross_revenue  total_units        price  \\\n0                    155.37               180.58          1.0  1991.923096   \n3                   1709.07              1986.38         11.0  1991.923096   \n6                    776.85               902.90          5.0  1991.923096   \n9                    776.85               902.90          5.0  1991.923096   \n12                   801.42               977.22          6.0  1712.435913   \n...                     ...                  ...          ...          ...   \n13440584             428.98               571.98          3.0  1833.247803   \n13440587             190.66               190.66          1.0  2444.358887   \n13491243             610.76               738.84          4.0  1957.564087   \n13571470             458.07               554.13          3.0  1957.564087   \n14939115             187.49               207.93          1.0  2403.718018   \n\n          price_per_box             entity_level mth_date_min mth_date_max  \n0            155.370000  100019764BarrilitoMedia   2021-05-01   2021-07-01  \n3            155.370000  100037257BarrilitoMedia   2021-05-01   2022-08-01  \n6            155.370000  100068004BarrilitoMedia   2021-05-01   2022-07-01  \n9            155.370000  100068069BarrilitoMedia   2021-05-01   2021-05-01  \n12           133.570000  100068135BarrilitoMedia   2021-05-01   2021-09-01  \n...                 ...                      ...          ...          ...  \n13440584     142.993333  101026196BarrilitoMedia   2021-05-01   2022-03-01  \n13440587     190.660000  101027184BarrilitoMedia   2021-05-01   2022-07-01  \n13491243     152.690000  100776062BarrilitoMedia   2021-05-01   2022-07-01  \n13571470     152.690000  100776062BarrilitoMedia   2021-05-01   2022-07-01  \n14939115     187.490000  100459590BarrilitoMedia   2021-05-01   2022-08-01  \n\n[53939 rows x 20 columns]",
            "text/html": "<div>\n<style scoped>\n    .dataframe tbody tr th:only-of-type {\n        vertical-align: middle;\n    }\n\n    .dataframe tbody tr th {\n        vertical-align: top;\n    }\n\n    .dataframe thead th {\n        text-align: right;\n    }\n</style>\n<table border=\"1\" class=\"dataframe\">\n  <thead>\n    <tr style=\"text-align: right;\">\n      <th></th>\n      <th>customer_commercial_region</th>\n      <th>customer_commercial_sub_region</th>\n      <th>customer_code</th>\n      <th>segment</th>\n      <th>mth_date</th>\n      <th>brand</th>\n      <th>size</th>\n      <th>product_line</th>\n      <th>sector</th>\n      <th>invoice_count</th>\n      <th>total_volume_hl</th>\n      <th>total_discount</th>\n      <th>total_net_revenue</th>\n      <th>total_gross_revenue</th>\n      <th>total_units</th>\n      <th>price</th>\n      <th>price_per_box</th>\n      <th>entity_level</th>\n      <th>mth_date_min</th>\n      <th>mth_date_max</th>\n    </tr>\n  </thead>\n  <tbody>\n    <tr>\n      <th>0</th>\n      <td>Central Bajío</td>\n      <td>CMM Altiplano</td>\n      <td>100019764</td>\n      <td>42</td>\n      <td>2021-05-01</td>\n      <td>Barrilito</td>\n      <td>Media</td>\n      <td>Cerveza</td>\n      <td>Core</td>\n      <td>1</td>\n      <td>0.0780</td>\n      <td>-25.21</td>\n      <td>155.37</td>\n      <td>180.58</td>\n      <td>1.0</td>\n      <td>1991.923096</td>\n      <td>155.370000</td>\n      <td>100019764BarrilitoMedia</td>\n      <td>2021-05-01</td>\n      <td>2021-07-01</td>\n    </tr>\n    <tr>\n      <th>3</th>\n      <td>Central Bajío</td>\n      <td>CMM Altiplano</td>\n      <td>100037257</td>\n      <td>42</td>\n      <td>2021-05-01</td>\n      <td>Barrilito</td>\n      <td>Media</td>\n      <td>Cerveza</td>\n      <td>Core</td>\n      <td>2</td>\n      <td>0.8580</td>\n      <td>-277.31</td>\n      <td>1709.07</td>\n      <td>1986.38</td>\n      <td>11.0</td>\n      <td>1991.923096</td>\n      <td>155.370000</td>\n      <td>100037257BarrilitoMedia</td>\n      <td>2021-05-01</td>\n      <td>2022-08-01</td>\n    </tr>\n    <tr>\n      <th>6</th>\n      <td>Central Bajío</td>\n      <td>CMM Hidalgo</td>\n      <td>100068004</td>\n      <td>42</td>\n      <td>2021-05-01</td>\n      <td>Barrilito</td>\n      <td>Media</td>\n      <td>Cerveza</td>\n      <td>Core</td>\n      <td>1</td>\n      <td>0.3900</td>\n      <td>-126.05</td>\n      <td>776.85</td>\n      <td>902.90</td>\n      <td>5.0</td>\n      <td>1991.923096</td>\n      <td>155.370000</td>\n      <td>100068004BarrilitoMedia</td>\n      <td>2021-05-01</td>\n      <td>2022-07-01</td>\n    </tr>\n    <tr>\n      <th>9</th>\n      <td>Central Bajío</td>\n      <td>CMM Hidalgo</td>\n      <td>100068069</td>\n      <td>42</td>\n      <td>2021-05-01</td>\n      <td>Barrilito</td>\n      <td>Media</td>\n      <td>Cerveza</td>\n      <td>Core</td>\n      <td>1</td>\n      <td>0.3900</td>\n      <td>-126.05</td>\n      <td>776.85</td>\n      <td>902.90</td>\n      <td>5.0</td>\n      <td>1991.923096</td>\n      <td>155.370000</td>\n      <td>100068069BarrilitoMedia</td>\n      <td>2021-05-01</td>\n      <td>2021-05-01</td>\n    </tr>\n    <tr>\n      <th>12</th>\n      <td>Central Bajío</td>\n      <td>CMM Hidalgo</td>\n      <td>100068135</td>\n      <td>42</td>\n      <td>2021-05-01</td>\n      <td>Barrilito</td>\n      <td>Media</td>\n      <td>Cerveza</td>\n      <td>Core</td>\n      <td>1</td>\n      <td>0.3900</td>\n      <td>-175.80</td>\n      <td>801.42</td>\n      <td>977.22</td>\n      <td>6.0</td>\n      <td>1712.435913</td>\n      <td>133.570000</td>\n      <td>100068135BarrilitoMedia</td>\n      <td>2021-05-01</td>\n      <td>2021-09-01</td>\n    </tr>\n    <tr>\n      <th>...</th>\n      <td>...</td>\n      <td>...</td>\n      <td>...</td>\n      <td>...</td>\n      <td>...</td>\n      <td>...</td>\n      <td>...</td>\n      <td>...</td>\n      <td>...</td>\n      <td>...</td>\n      <td>...</td>\n      <td>...</td>\n      <td>...</td>\n      <td>...</td>\n      <td>...</td>\n      <td>...</td>\n      <td>...</td>\n      <td>...</td>\n      <td>...</td>\n      <td>...</td>\n    </tr>\n    <tr>\n      <th>13440584</th>\n      <td>Central Bajío</td>\n      <td>CMM Hidalgo</td>\n      <td>101026196</td>\n      <td>43</td>\n      <td>2021-08-01</td>\n      <td>Barrilito</td>\n      <td>Media</td>\n      <td>Cerveza</td>\n      <td>Core</td>\n      <td>1</td>\n      <td>0.3900</td>\n      <td>-143.00</td>\n      <td>428.98</td>\n      <td>571.98</td>\n      <td>3.0</td>\n      <td>1833.247803</td>\n      <td>142.993333</td>\n      <td>101026196BarrilitoMedia</td>\n      <td>2021-05-01</td>\n      <td>2022-03-01</td>\n    </tr>\n    <tr>\n      <th>13440587</th>\n      <td>Central Bajío</td>\n      <td>CMM Metropolitana</td>\n      <td>101027184</td>\n      <td>43</td>\n      <td>2021-08-01</td>\n      <td>Barrilito</td>\n      <td>Media</td>\n      <td>Cerveza</td>\n      <td>Core</td>\n      <td>1</td>\n      <td>0.0936</td>\n      <td>0.00</td>\n      <td>190.66</td>\n      <td>190.66</td>\n      <td>1.0</td>\n      <td>2444.358887</td>\n      <td>190.660000</td>\n      <td>101027184BarrilitoMedia</td>\n      <td>2021-05-01</td>\n      <td>2022-07-01</td>\n    </tr>\n    <tr>\n      <th>13491243</th>\n      <td>Central Bajío</td>\n      <td>CMM Altiplano</td>\n      <td>100776062</td>\n      <td>45</td>\n      <td>2022-05-01</td>\n      <td>Barrilito</td>\n      <td>Media</td>\n      <td>Cerveza</td>\n      <td>Core</td>\n      <td>1</td>\n      <td>0.3120</td>\n      <td>-128.08</td>\n      <td>610.76</td>\n      <td>738.84</td>\n      <td>4.0</td>\n      <td>1957.564087</td>\n      <td>152.690000</td>\n      <td>100776062BarrilitoMedia</td>\n      <td>2021-05-01</td>\n      <td>2022-07-01</td>\n    </tr>\n    <tr>\n      <th>13571470</th>\n      <td>Central Bajío</td>\n      <td>CMM Altiplano</td>\n      <td>100776062</td>\n      <td>45</td>\n      <td>2022-07-01</td>\n      <td>Barrilito</td>\n      <td>Media</td>\n      <td>Cerveza</td>\n      <td>Core</td>\n      <td>1</td>\n      <td>0.2340</td>\n      <td>-96.06</td>\n      <td>458.07</td>\n      <td>554.13</td>\n      <td>3.0</td>\n      <td>1957.564087</td>\n      <td>152.690000</td>\n      <td>100776062BarrilitoMedia</td>\n      <td>2021-05-01</td>\n      <td>2022-07-01</td>\n    </tr>\n    <tr>\n      <th>14939115</th>\n      <td>Central Bajío</td>\n      <td>CMM Altiplano</td>\n      <td>100459590</td>\n      <td>66</td>\n      <td>2022-08-01</td>\n      <td>Barrilito</td>\n      <td>Media</td>\n      <td>Cerveza</td>\n      <td>Core</td>\n      <td>3</td>\n      <td>0.0780</td>\n      <td>-20.44</td>\n      <td>187.49</td>\n      <td>207.93</td>\n      <td>1.0</td>\n      <td>2403.718018</td>\n      <td>187.490000</td>\n      <td>100459590BarrilitoMedia</td>\n      <td>2021-05-01</td>\n      <td>2022-08-01</td>\n    </tr>\n  </tbody>\n</table>\n<p>53939 rows × 20 columns</p>\n</div>"
          },
          "metadata": {}
        }
      ],
      "execution_count": 35,
      "metadata": {
        "jupyter": {
          "source_hidden": false,
          "outputs_hidden": false
        },
        "nteract": {
          "transient": {
            "deleting": false
          }
        },
        "gather": {
          "logged": 1666272982842
        }
      }
    },
    {
      "cell_type": "markdown",
      "source": [
        "Creando dataframe con todas las fechas entre las fechas mínima y máxima del dataframe total"
      ],
      "metadata": {
        "nteract": {
          "transient": {
            "deleting": false
          }
        }
      }
    },
    {
      "cell_type": "code",
      "source": [
        "# Definiendo métricas y variables de agrupamiento\r\n",
        "data_level = ['customer_code', 'brand', 'size', 'mth_date']\r\n",
        "metrics = ['invoice_count', 'total_volume_hl']\r\n",
        "groupby_level = ['customer_code', 'brand', 'size']\r\n",
        "df.sort_values(data_level, inplace=True)\r\n",
        "\r\n",
        "# Todas las fechas desde la menor a la mayor del total del dataframe por mes\r\n",
        "adf = pd.DataFrame(index=pd.date_range(\r\n",
        "            df.mth_date.min(),\r\n",
        "            df.mth_date.max(),\r\n",
        "            freq='MS')).reset_index().rename(columns={'index':'mth_date'})\r\n",
        "adf"
      ],
      "outputs": [
        {
          "output_type": "execute_result",
          "execution_count": 36,
          "data": {
            "text/plain": "     mth_date\n0  2021-05-01\n1  2021-06-01\n2  2021-07-01\n3  2021-08-01\n4  2021-09-01\n5  2021-10-01\n6  2021-11-01\n7  2021-12-01\n8  2022-01-01\n9  2022-02-01\n10 2022-03-01\n11 2022-04-01\n12 2022-05-01\n13 2022-06-01\n14 2022-07-01\n15 2022-08-01",
            "text/html": "<div>\n<style scoped>\n    .dataframe tbody tr th:only-of-type {\n        vertical-align: middle;\n    }\n\n    .dataframe tbody tr th {\n        vertical-align: top;\n    }\n\n    .dataframe thead th {\n        text-align: right;\n    }\n</style>\n<table border=\"1\" class=\"dataframe\">\n  <thead>\n    <tr style=\"text-align: right;\">\n      <th></th>\n      <th>mth_date</th>\n    </tr>\n  </thead>\n  <tbody>\n    <tr>\n      <th>0</th>\n      <td>2021-05-01</td>\n    </tr>\n    <tr>\n      <th>1</th>\n      <td>2021-06-01</td>\n    </tr>\n    <tr>\n      <th>2</th>\n      <td>2021-07-01</td>\n    </tr>\n    <tr>\n      <th>3</th>\n      <td>2021-08-01</td>\n    </tr>\n    <tr>\n      <th>4</th>\n      <td>2021-09-01</td>\n    </tr>\n    <tr>\n      <th>5</th>\n      <td>2021-10-01</td>\n    </tr>\n    <tr>\n      <th>6</th>\n      <td>2021-11-01</td>\n    </tr>\n    <tr>\n      <th>7</th>\n      <td>2021-12-01</td>\n    </tr>\n    <tr>\n      <th>8</th>\n      <td>2022-01-01</td>\n    </tr>\n    <tr>\n      <th>9</th>\n      <td>2022-02-01</td>\n    </tr>\n    <tr>\n      <th>10</th>\n      <td>2022-03-01</td>\n    </tr>\n    <tr>\n      <th>11</th>\n      <td>2022-04-01</td>\n    </tr>\n    <tr>\n      <th>12</th>\n      <td>2022-05-01</td>\n    </tr>\n    <tr>\n      <th>13</th>\n      <td>2022-06-01</td>\n    </tr>\n    <tr>\n      <th>14</th>\n      <td>2022-07-01</td>\n    </tr>\n    <tr>\n      <th>15</th>\n      <td>2022-08-01</td>\n    </tr>\n  </tbody>\n</table>\n</div>"
          },
          "metadata": {}
        }
      ],
      "execution_count": 36,
      "metadata": {
        "jupyter": {
          "source_hidden": false,
          "outputs_hidden": false
        },
        "nteract": {
          "transient": {
            "deleting": false
          }
        },
        "gather": {
          "logged": 1666272983058
        }
      }
    },
    {
      "cell_type": "markdown",
      "source": [
        "Creando un dataframe con los únicos triplets correspondientes a las variables de groupby, repetidos cada uno tantas veces como la longitud del dataframe previo, y con la columna 'mth_date' correspondiente a la repetición del dataframe previo tantas veces como valores distintos de los triplets de agrupamiento."
      ],
      "metadata": {
        "nteract": {
          "transient": {
            "deleting": false
          }
        }
      }
    },
    {
      "cell_type": "code",
      "source": [
        "# Dataframe con las variables de agrupamiento repetidas tantas veces como valores distintos entre las fechas mínima y máxima del df original total\r\n",
        "df_entity_level = df.drop_duplicates(groupby_level)[groupby_level].reset_index(drop=True)\r\n",
        "df_entity_level = df_entity_level.loc[df_entity_level.index.repeat(len(adf))].reset_index(drop=True)\r\n",
        "df_entity_level['mth_date'] = np.tile(adf.mth_date.values, int(len(df_entity_level)/len(adf)))\r\n",
        "df_entity_level"
      ],
      "outputs": [
        {
          "output_type": "execute_result",
          "execution_count": 37,
          "data": {
            "text/plain": "       customer_code      brand   size   mth_date\n0          100019764  Barrilito  Media 2021-05-01\n1          100019764  Barrilito  Media 2021-06-01\n2          100019764  Barrilito  Media 2021-07-01\n3          100019764  Barrilito  Media 2021-08-01\n4          100019764  Barrilito  Media 2021-09-01\n...              ...        ...    ...        ...\n159995     101055641  Barrilito  Media 2022-04-01\n159996     101055641  Barrilito  Media 2022-05-01\n159997     101055641  Barrilito  Media 2022-06-01\n159998     101055641  Barrilito  Media 2022-07-01\n159999     101055641  Barrilito  Media 2022-08-01\n\n[160000 rows x 4 columns]",
            "text/html": "<div>\n<style scoped>\n    .dataframe tbody tr th:only-of-type {\n        vertical-align: middle;\n    }\n\n    .dataframe tbody tr th {\n        vertical-align: top;\n    }\n\n    .dataframe thead th {\n        text-align: right;\n    }\n</style>\n<table border=\"1\" class=\"dataframe\">\n  <thead>\n    <tr style=\"text-align: right;\">\n      <th></th>\n      <th>customer_code</th>\n      <th>brand</th>\n      <th>size</th>\n      <th>mth_date</th>\n    </tr>\n  </thead>\n  <tbody>\n    <tr>\n      <th>0</th>\n      <td>100019764</td>\n      <td>Barrilito</td>\n      <td>Media</td>\n      <td>2021-05-01</td>\n    </tr>\n    <tr>\n      <th>1</th>\n      <td>100019764</td>\n      <td>Barrilito</td>\n      <td>Media</td>\n      <td>2021-06-01</td>\n    </tr>\n    <tr>\n      <th>2</th>\n      <td>100019764</td>\n      <td>Barrilito</td>\n      <td>Media</td>\n      <td>2021-07-01</td>\n    </tr>\n    <tr>\n      <th>3</th>\n      <td>100019764</td>\n      <td>Barrilito</td>\n      <td>Media</td>\n      <td>2021-08-01</td>\n    </tr>\n    <tr>\n      <th>4</th>\n      <td>100019764</td>\n      <td>Barrilito</td>\n      <td>Media</td>\n      <td>2021-09-01</td>\n    </tr>\n    <tr>\n      <th>...</th>\n      <td>...</td>\n      <td>...</td>\n      <td>...</td>\n      <td>...</td>\n    </tr>\n    <tr>\n      <th>159995</th>\n      <td>101055641</td>\n      <td>Barrilito</td>\n      <td>Media</td>\n      <td>2022-04-01</td>\n    </tr>\n    <tr>\n      <th>159996</th>\n      <td>101055641</td>\n      <td>Barrilito</td>\n      <td>Media</td>\n      <td>2022-05-01</td>\n    </tr>\n    <tr>\n      <th>159997</th>\n      <td>101055641</td>\n      <td>Barrilito</td>\n      <td>Media</td>\n      <td>2022-06-01</td>\n    </tr>\n    <tr>\n      <th>159998</th>\n      <td>101055641</td>\n      <td>Barrilito</td>\n      <td>Media</td>\n      <td>2022-07-01</td>\n    </tr>\n    <tr>\n      <th>159999</th>\n      <td>101055641</td>\n      <td>Barrilito</td>\n      <td>Media</td>\n      <td>2022-08-01</td>\n    </tr>\n  </tbody>\n</table>\n<p>160000 rows × 4 columns</p>\n</div>"
          },
          "metadata": {}
        }
      ],
      "execution_count": 37,
      "metadata": {
        "jupyter": {
          "source_hidden": false,
          "outputs_hidden": false
        },
        "nteract": {
          "transient": {
            "deleting": false
          }
        },
        "gather": {
          "logged": 1666272983260
        }
      }
    },
    {
      "cell_type": "markdown",
      "source": [
        "Mergeando dataframe original con dataframe previo."
      ],
      "metadata": {
        "nteract": {
          "transient": {
            "deleting": false
          }
        }
      }
    },
    {
      "cell_type": "code",
      "source": [
        "# Mergear dataframe original con el dataframe de todas las fechas para cada grupo para traerme los valores del df original en las variables de\r\n",
        "# métricas\r\n",
        "df_merged = df.merge(\r\n",
        "        df_entity_level, on=data_level, how='right')[data_level+metrics+['mth_date_min', 'mth_date_max']]\r\n",
        "# Ordenamiento y creación de variable auxiliar para realizar el shift().where()...\r\n",
        "df_merged.sort_values(data_level, inplace=True)\r\n",
        "df_merged['entity_level'] = (df_merged[groupby_level[0]].astype(str)\r\n",
        "                                    +df_merged[groupby_level[1]]+df_merged[groupby_level[2]])\r\n",
        "df_merged"
      ],
      "outputs": [
        {
          "output_type": "execute_result",
          "execution_count": 38,
          "data": {
            "text/plain": "       customer_code      brand   size   mth_date  invoice_count  \\\n0          100019764  Barrilito  Media 2021-05-01            1.0   \n1          100019764  Barrilito  Media 2021-06-01            NaN   \n2          100019764  Barrilito  Media 2021-07-01            1.0   \n3          100019764  Barrilito  Media 2021-08-01            NaN   \n4          100019764  Barrilito  Media 2021-09-01            NaN   \n...              ...        ...    ...        ...            ...   \n159995     101055641  Barrilito  Media 2022-04-01            NaN   \n159996     101055641  Barrilito  Media 2022-05-01            NaN   \n159997     101055641  Barrilito  Media 2022-06-01            NaN   \n159998     101055641  Barrilito  Media 2022-07-01            NaN   \n159999     101055641  Barrilito  Media 2022-08-01            NaN   \n\n        total_volume_hl mth_date_min mth_date_max             entity_level  \n0                 0.078   2021-05-01   2021-07-01  100019764BarrilitoMedia  \n1                   NaN          NaT          NaT  100019764BarrilitoMedia  \n2                 0.078   2021-05-01   2021-07-01  100019764BarrilitoMedia  \n3                   NaN          NaT          NaT  100019764BarrilitoMedia  \n4                   NaN          NaT          NaT  100019764BarrilitoMedia  \n...                 ...          ...          ...                      ...  \n159995              NaN          NaT          NaT  101055641BarrilitoMedia  \n159996              NaN          NaT          NaT  101055641BarrilitoMedia  \n159997              NaN          NaT          NaT  101055641BarrilitoMedia  \n159998              NaN          NaT          NaT  101055641BarrilitoMedia  \n159999              NaN          NaT          NaT  101055641BarrilitoMedia  \n\n[160000 rows x 9 columns]",
            "text/html": "<div>\n<style scoped>\n    .dataframe tbody tr th:only-of-type {\n        vertical-align: middle;\n    }\n\n    .dataframe tbody tr th {\n        vertical-align: top;\n    }\n\n    .dataframe thead th {\n        text-align: right;\n    }\n</style>\n<table border=\"1\" class=\"dataframe\">\n  <thead>\n    <tr style=\"text-align: right;\">\n      <th></th>\n      <th>customer_code</th>\n      <th>brand</th>\n      <th>size</th>\n      <th>mth_date</th>\n      <th>invoice_count</th>\n      <th>total_volume_hl</th>\n      <th>mth_date_min</th>\n      <th>mth_date_max</th>\n      <th>entity_level</th>\n    </tr>\n  </thead>\n  <tbody>\n    <tr>\n      <th>0</th>\n      <td>100019764</td>\n      <td>Barrilito</td>\n      <td>Media</td>\n      <td>2021-05-01</td>\n      <td>1.0</td>\n      <td>0.078</td>\n      <td>2021-05-01</td>\n      <td>2021-07-01</td>\n      <td>100019764BarrilitoMedia</td>\n    </tr>\n    <tr>\n      <th>1</th>\n      <td>100019764</td>\n      <td>Barrilito</td>\n      <td>Media</td>\n      <td>2021-06-01</td>\n      <td>NaN</td>\n      <td>NaN</td>\n      <td>NaT</td>\n      <td>NaT</td>\n      <td>100019764BarrilitoMedia</td>\n    </tr>\n    <tr>\n      <th>2</th>\n      <td>100019764</td>\n      <td>Barrilito</td>\n      <td>Media</td>\n      <td>2021-07-01</td>\n      <td>1.0</td>\n      <td>0.078</td>\n      <td>2021-05-01</td>\n      <td>2021-07-01</td>\n      <td>100019764BarrilitoMedia</td>\n    </tr>\n    <tr>\n      <th>3</th>\n      <td>100019764</td>\n      <td>Barrilito</td>\n      <td>Media</td>\n      <td>2021-08-01</td>\n      <td>NaN</td>\n      <td>NaN</td>\n      <td>NaT</td>\n      <td>NaT</td>\n      <td>100019764BarrilitoMedia</td>\n    </tr>\n    <tr>\n      <th>4</th>\n      <td>100019764</td>\n      <td>Barrilito</td>\n      <td>Media</td>\n      <td>2021-09-01</td>\n      <td>NaN</td>\n      <td>NaN</td>\n      <td>NaT</td>\n      <td>NaT</td>\n      <td>100019764BarrilitoMedia</td>\n    </tr>\n    <tr>\n      <th>...</th>\n      <td>...</td>\n      <td>...</td>\n      <td>...</td>\n      <td>...</td>\n      <td>...</td>\n      <td>...</td>\n      <td>...</td>\n      <td>...</td>\n      <td>...</td>\n    </tr>\n    <tr>\n      <th>159995</th>\n      <td>101055641</td>\n      <td>Barrilito</td>\n      <td>Media</td>\n      <td>2022-04-01</td>\n      <td>NaN</td>\n      <td>NaN</td>\n      <td>NaT</td>\n      <td>NaT</td>\n      <td>101055641BarrilitoMedia</td>\n    </tr>\n    <tr>\n      <th>159996</th>\n      <td>101055641</td>\n      <td>Barrilito</td>\n      <td>Media</td>\n      <td>2022-05-01</td>\n      <td>NaN</td>\n      <td>NaN</td>\n      <td>NaT</td>\n      <td>NaT</td>\n      <td>101055641BarrilitoMedia</td>\n    </tr>\n    <tr>\n      <th>159997</th>\n      <td>101055641</td>\n      <td>Barrilito</td>\n      <td>Media</td>\n      <td>2022-06-01</td>\n      <td>NaN</td>\n      <td>NaN</td>\n      <td>NaT</td>\n      <td>NaT</td>\n      <td>101055641BarrilitoMedia</td>\n    </tr>\n    <tr>\n      <th>159998</th>\n      <td>101055641</td>\n      <td>Barrilito</td>\n      <td>Media</td>\n      <td>2022-07-01</td>\n      <td>NaN</td>\n      <td>NaN</td>\n      <td>NaT</td>\n      <td>NaT</td>\n      <td>101055641BarrilitoMedia</td>\n    </tr>\n    <tr>\n      <th>159999</th>\n      <td>101055641</td>\n      <td>Barrilito</td>\n      <td>Media</td>\n      <td>2022-08-01</td>\n      <td>NaN</td>\n      <td>NaN</td>\n      <td>NaT</td>\n      <td>NaT</td>\n      <td>101055641BarrilitoMedia</td>\n    </tr>\n  </tbody>\n</table>\n<p>160000 rows × 9 columns</p>\n</div>"
          },
          "metadata": {}
        }
      ],
      "execution_count": 38,
      "metadata": {
        "jupyter": {
          "source_hidden": false,
          "outputs_hidden": false
        },
        "nteract": {
          "transient": {
            "deleting": false
          }
        },
        "gather": {
          "logged": 1666272983477
        }
      }
    },
    {
      "cell_type": "markdown",
      "source": [
        "Clipeando dataframe obtenido para que cada grupo contenga todas las fechas entre las fechas mínima y máxima que originalmente tenían."
      ],
      "metadata": {
        "nteract": {
          "transient": {
            "deleting": false
          }
        }
      }
    },
    {
      "cell_type": "code",
      "source": [
        "# Reemplazo NaT con los valores únicos por grupo de la columna correspondiente\r\n",
        "df_merged['mth_date_min'] = df_merged.groupby(groupby_level)['mth_date_min'].transform(max)\r\n",
        "df_merged['mth_date_max'] = df_merged.groupby(groupby_level)['mth_date_max'].transform(max)\r\n",
        "# Variable auxiliar para seleccionar las filas que se encuentran entre la fecha mínima y máxima de cada grupo\r\n",
        "df_merged['truth'] = np.where((df_merged.mth_date >= df_merged.mth_date_min)&(df_merged.mth_date <= df_merged.mth_date_max), True, False)\r\n",
        "df_merged = df_merged[df_merged.truth==True]\r\n",
        "df_merged"
      ],
      "outputs": [
        {
          "output_type": "execute_result",
          "execution_count": 39,
          "data": {
            "text/plain": "       customer_code      brand   size   mth_date  invoice_count  \\\n0          100019764  Barrilito  Media 2021-05-01            1.0   \n1          100019764  Barrilito  Media 2021-06-01            NaN   \n2          100019764  Barrilito  Media 2021-07-01            1.0   \n16         100037257  Barrilito  Media 2021-05-01            2.0   \n17         100037257  Barrilito  Media 2021-06-01            NaN   \n...              ...        ...    ...        ...            ...   \n159989     101055641  Barrilito  Media 2021-10-01            NaN   \n159990     101055641  Barrilito  Media 2021-11-01            NaN   \n159991     101055641  Barrilito  Media 2021-12-01            NaN   \n159992     101055641  Barrilito  Media 2022-01-01            NaN   \n159993     101055641  Barrilito  Media 2022-02-01            1.0   \n\n        total_volume_hl mth_date_min mth_date_max             entity_level  \\\n0                0.0780   2021-05-01   2021-07-01  100019764BarrilitoMedia   \n1                   NaN   2021-05-01   2021-07-01  100019764BarrilitoMedia   \n2                0.0780   2021-05-01   2021-07-01  100019764BarrilitoMedia   \n16               0.8580   2021-05-01   2022-08-01  100037257BarrilitoMedia   \n17                  NaN   2021-05-01   2022-08-01  100037257BarrilitoMedia   \n...                 ...          ...          ...                      ...   \n159989              NaN   2021-05-01   2022-02-01  101055641BarrilitoMedia   \n159990              NaN   2021-05-01   2022-02-01  101055641BarrilitoMedia   \n159991              NaN   2021-05-01   2022-02-01  101055641BarrilitoMedia   \n159992              NaN   2021-05-01   2022-02-01  101055641BarrilitoMedia   \n159993           0.1716   2021-05-01   2022-02-01  101055641BarrilitoMedia   \n\n        truth  \n0        True  \n1        True  \n2        True  \n16       True  \n17       True  \n...       ...  \n159989   True  \n159990   True  \n159991   True  \n159992   True  \n159993   True  \n\n[101424 rows x 10 columns]",
            "text/html": "<div>\n<style scoped>\n    .dataframe tbody tr th:only-of-type {\n        vertical-align: middle;\n    }\n\n    .dataframe tbody tr th {\n        vertical-align: top;\n    }\n\n    .dataframe thead th {\n        text-align: right;\n    }\n</style>\n<table border=\"1\" class=\"dataframe\">\n  <thead>\n    <tr style=\"text-align: right;\">\n      <th></th>\n      <th>customer_code</th>\n      <th>brand</th>\n      <th>size</th>\n      <th>mth_date</th>\n      <th>invoice_count</th>\n      <th>total_volume_hl</th>\n      <th>mth_date_min</th>\n      <th>mth_date_max</th>\n      <th>entity_level</th>\n      <th>truth</th>\n    </tr>\n  </thead>\n  <tbody>\n    <tr>\n      <th>0</th>\n      <td>100019764</td>\n      <td>Barrilito</td>\n      <td>Media</td>\n      <td>2021-05-01</td>\n      <td>1.0</td>\n      <td>0.0780</td>\n      <td>2021-05-01</td>\n      <td>2021-07-01</td>\n      <td>100019764BarrilitoMedia</td>\n      <td>True</td>\n    </tr>\n    <tr>\n      <th>1</th>\n      <td>100019764</td>\n      <td>Barrilito</td>\n      <td>Media</td>\n      <td>2021-06-01</td>\n      <td>NaN</td>\n      <td>NaN</td>\n      <td>2021-05-01</td>\n      <td>2021-07-01</td>\n      <td>100019764BarrilitoMedia</td>\n      <td>True</td>\n    </tr>\n    <tr>\n      <th>2</th>\n      <td>100019764</td>\n      <td>Barrilito</td>\n      <td>Media</td>\n      <td>2021-07-01</td>\n      <td>1.0</td>\n      <td>0.0780</td>\n      <td>2021-05-01</td>\n      <td>2021-07-01</td>\n      <td>100019764BarrilitoMedia</td>\n      <td>True</td>\n    </tr>\n    <tr>\n      <th>16</th>\n      <td>100037257</td>\n      <td>Barrilito</td>\n      <td>Media</td>\n      <td>2021-05-01</td>\n      <td>2.0</td>\n      <td>0.8580</td>\n      <td>2021-05-01</td>\n      <td>2022-08-01</td>\n      <td>100037257BarrilitoMedia</td>\n      <td>True</td>\n    </tr>\n    <tr>\n      <th>17</th>\n      <td>100037257</td>\n      <td>Barrilito</td>\n      <td>Media</td>\n      <td>2021-06-01</td>\n      <td>NaN</td>\n      <td>NaN</td>\n      <td>2021-05-01</td>\n      <td>2022-08-01</td>\n      <td>100037257BarrilitoMedia</td>\n      <td>True</td>\n    </tr>\n    <tr>\n      <th>...</th>\n      <td>...</td>\n      <td>...</td>\n      <td>...</td>\n      <td>...</td>\n      <td>...</td>\n      <td>...</td>\n      <td>...</td>\n      <td>...</td>\n      <td>...</td>\n      <td>...</td>\n    </tr>\n    <tr>\n      <th>159989</th>\n      <td>101055641</td>\n      <td>Barrilito</td>\n      <td>Media</td>\n      <td>2021-10-01</td>\n      <td>NaN</td>\n      <td>NaN</td>\n      <td>2021-05-01</td>\n      <td>2022-02-01</td>\n      <td>101055641BarrilitoMedia</td>\n      <td>True</td>\n    </tr>\n    <tr>\n      <th>159990</th>\n      <td>101055641</td>\n      <td>Barrilito</td>\n      <td>Media</td>\n      <td>2021-11-01</td>\n      <td>NaN</td>\n      <td>NaN</td>\n      <td>2021-05-01</td>\n      <td>2022-02-01</td>\n      <td>101055641BarrilitoMedia</td>\n      <td>True</td>\n    </tr>\n    <tr>\n      <th>159991</th>\n      <td>101055641</td>\n      <td>Barrilito</td>\n      <td>Media</td>\n      <td>2021-12-01</td>\n      <td>NaN</td>\n      <td>NaN</td>\n      <td>2021-05-01</td>\n      <td>2022-02-01</td>\n      <td>101055641BarrilitoMedia</td>\n      <td>True</td>\n    </tr>\n    <tr>\n      <th>159992</th>\n      <td>101055641</td>\n      <td>Barrilito</td>\n      <td>Media</td>\n      <td>2022-01-01</td>\n      <td>NaN</td>\n      <td>NaN</td>\n      <td>2021-05-01</td>\n      <td>2022-02-01</td>\n      <td>101055641BarrilitoMedia</td>\n      <td>True</td>\n    </tr>\n    <tr>\n      <th>159993</th>\n      <td>101055641</td>\n      <td>Barrilito</td>\n      <td>Media</td>\n      <td>2022-02-01</td>\n      <td>1.0</td>\n      <td>0.1716</td>\n      <td>2021-05-01</td>\n      <td>2022-02-01</td>\n      <td>101055641BarrilitoMedia</td>\n      <td>True</td>\n    </tr>\n  </tbody>\n</table>\n<p>101424 rows × 10 columns</p>\n</div>"
          },
          "metadata": {}
        }
      ],
      "execution_count": 39,
      "metadata": {
        "jupyter": {
          "source_hidden": false,
          "outputs_hidden": false
        },
        "nteract": {
          "transient": {
            "deleting": false
          }
        },
        "gather": {
          "logged": 1666272983746
        }
      }
    },
    {
      "cell_type": "code",
      "source": [
        "# tiempo para la approach completa de resampleo\r\n",
        "t0 = time.time()\r\n",
        "\r\n",
        "data_level = ['customer_code', 'brand', 'size', 'mth_date']\r\n",
        "metrics = ['invoice_count', 'total_volume_hl']\r\n",
        "df.sort_values(data_level, inplace=True)\r\n",
        "groupby_level = ['customer_code', 'brand', 'size']\r\n",
        "\r\n",
        "adf = pd.DataFrame(index=pd.date_range(\r\n",
        "            df.mth_date.min(),\r\n",
        "            df.mth_date.max(),\r\n",
        "            freq='MS')).reset_index().rename(columns={'index':'mth_date'})\r\n",
        "\r\n",
        "df_entity_level = df.drop_duplicates(groupby_level)[groupby_level].reset_index(drop=True)\r\n",
        "df_entity_level = df_entity_level.loc[df_entity_level.index.repeat(len(adf))].reset_index(drop=True)\r\n",
        "df_entity_level['mth_date'] = np.tile(adf.mth_date.values, int(len(df_entity_level)/len(adf)))\r\n",
        "\r\n",
        "df_merged = df.merge(\r\n",
        "        df_entity_level, on=data_level, how='right')[data_level+metrics+['mth_date_min', 'mth_date_max']]\r\n",
        "df_merged.sort_values(data_level, inplace=True)\r\n",
        "df_merged['entity_level'] = (df_merged[groupby_level[0]].astype(str)\r\n",
        "                                    +df_merged[groupby_level[1]]+df_merged[groupby_level[2]])\r\n",
        "\r\n",
        "df_merged['mth_date_min'] = df_merged.groupby(groupby_level)['mth_date_min'].transform(max)\r\n",
        "df_merged['mth_date_max'] = df_merged.groupby(groupby_level)['mth_date_max'].transform(max)\r\n",
        "df_merged['truth'] = np.where((df_merged.mth_date >= df_merged.mth_date_min)&(df_merged.mth_date <= df_merged.mth_date_max), True, False)\r\n",
        "df_merged = df_merged[df_merged.truth==True]\r\n",
        "\r\n",
        "t1 = time.time()\r\n",
        "print(\"Tiempo total de resampleo alternativo para 10000 grupos\", t1-t0)"
      ],
      "outputs": [
        {
          "output_type": "stream",
          "name": "stdout",
          "text": "Tiempo total de resampleo alternativo para 10000 grupos 0.45566463470458984\n"
        }
      ],
      "execution_count": 40,
      "metadata": {
        "jupyter": {
          "source_hidden": false,
          "outputs_hidden": false
        },
        "nteract": {
          "transient": {
            "deleting": false
          }
        },
        "gather": {
          "logged": 1666272983951
        }
      }
    },
    {
      "cell_type": "markdown",
      "source": [
        "Testeando con resampleo alternativo, rolling + mean funciones de pandas"
      ],
      "metadata": {
        "nteract": {
          "transient": {
            "deleting": false
          }
        }
      }
    },
    {
      "cell_type": "code",
      "source": [
        "import warnings\r\n",
        "warnings.filterwarnings(\"ignore\")\r\n",
        "\r\n",
        "df_merged2 = df_merged.copy()\r\n",
        "# Target shifteado sobre el que calcular el rolling mean\r\n",
        "df_merged.loc[:,'target_shift'] = df_merged['invoice_count'].shift(1).where(df_merged.entity_level.eq(df_merged.entity_level.shift(1)))\r\n",
        "t0 = time.time()\r\n",
        "# Rolling mean por grupo con métodos de pandas\r\n",
        "df_merged.loc[:,'target_mean_2'] = df_merged.groupby('entity_level')['target_shift'].rolling(window=2, min_periods=0).mean().values\r\n",
        "t1 = time.time()"
      ],
      "outputs": [],
      "execution_count": 41,
      "metadata": {
        "jupyter": {
          "source_hidden": false,
          "outputs_hidden": false
        },
        "nteract": {
          "transient": {
            "deleting": false
          }
        },
        "gather": {
          "logged": 1666272984199
        }
      }
    },
    {
      "cell_type": "code",
      "source": [
        "print(\"Tiempo para ejecución de rolling mean en df resampleado alternativamente\", t1 - t0)"
      ],
      "outputs": [
        {
          "output_type": "stream",
          "name": "stdout",
          "text": "Tiempo para ejecución de rolling mean en df resampleado alternativamente 0.8401856422424316\n"
        }
      ],
      "execution_count": 42,
      "metadata": {
        "jupyter": {
          "source_hidden": false,
          "outputs_hidden": false
        },
        "nteract": {
          "transient": {
            "deleting": false
          }
        },
        "gather": {
          "logged": 1666272984397
        }
      }
    },
    {
      "cell_type": "markdown",
      "source": [
        "Resampleo usando resample() pandas"
      ],
      "metadata": {
        "nteract": {
          "transient": {
            "deleting": false
          }
        }
      }
    },
    {
      "cell_type": "code",
      "source": [
        "tx0 = time.time()\r\n",
        "df_test2.sort_values(data_level, inplace=True)\r\n",
        "# Resampleo con método de pandas en la variable de fecha, por grupo.\r\n",
        "dff = df_test2.groupby('entity_level').resample('MS', on='mth_date').last().drop(columns=['mth_date', 'entity_level']).reset_index()\r\n",
        "print(\"Tiempo necesario para resamplear dataframe con pandas.Dataframe.resample()\", time.time()-tx0)"
      ],
      "outputs": [
        {
          "output_type": "stream",
          "name": "stdout",
          "text": "Tiempo necesario para resamplear dataframe con pandas.Dataframe.resample() 46.49331092834473\n"
        }
      ],
      "execution_count": 43,
      "metadata": {
        "jupyter": {
          "source_hidden": false,
          "outputs_hidden": false
        },
        "nteract": {
          "transient": {
            "deleting": false
          }
        },
        "gather": {
          "logged": 1666273030570
        }
      }
    },
    {
      "cell_type": "code",
      "source": [
        "# Ordenando df en variables de grupo y fecha para aplicar el shift().where()\r\n",
        "dff.sort_values(['entity_level', 'mth_date'], inplace=True)\r\n",
        "dff = dff[['entity_level', 'mth_date']+metrics]\r\n",
        "# Target shifteado sobre el que calcular el rolling mean\r\n",
        "dff.loc[:,'target_shift'] = dff['invoice_count'].shift(1).where(dff.entity_level.eq(dff.entity_level.shift(1)))\r\n",
        "tx0 = time.time()\r\n",
        "# Rolling mean por grupo con métodos de pandas\r\n",
        "dff.loc[:,'target_mean_2'] = dff.groupby('entity_level')['target_shift'].rolling(window=2, min_periods=0).mean().values\r\n",
        "print(\"Tiempo para ejecución de rolling mean en df resampleado con método de pandas\", time.time()-tx0)"
      ],
      "outputs": [
        {
          "output_type": "stream",
          "name": "stdout",
          "text": "Tiempo para ejecución de rolling mean en df resampleado con método de pandas 0.8186922073364258\n"
        }
      ],
      "execution_count": 44,
      "metadata": {
        "jupyter": {
          "source_hidden": false,
          "outputs_hidden": false
        },
        "nteract": {
          "transient": {
            "deleting": false
          }
        },
        "gather": {
          "logged": 1666273031507
        }
      }
    },
    {
      "cell_type": "code",
      "source": [
        "# Printing total number of files\r\n",
        "print(\"Dimensiones de los DFs resultantes de resampleo con resample() y resampleo alternativo\")\r\n",
        "print(df_merged.shape, dff.shape)"
      ],
      "outputs": [
        {
          "output_type": "stream",
          "name": "stdout",
          "text": "Dimensiones de los DFs resultantes de resampleo con resample() y resampleo alternativo\n(101424, 12) (101424, 6)\n"
        }
      ],
      "execution_count": 45,
      "metadata": {
        "jupyter": {
          "source_hidden": false,
          "outputs_hidden": false
        },
        "nteract": {
          "transient": {
            "deleting": false
          }
        },
        "gather": {
          "logged": 1666273031700
        }
      }
    },
    {
      "cell_type": "markdown",
      "source": [
        "Chequeo si se obtienen los mismos resultados"
      ],
      "metadata": {
        "nteract": {
          "transient": {
            "deleting": false
          }
        }
      }
    },
    {
      "cell_type": "code",
      "source": [
        "print(\"DFs resultantes de resampleo con resample() y resampleo alternativo, son iguales?\", df_merged[list(dff.columns)].sort_values(\r\n",
        "    ['entity_level', 'mth_date']).reset_index(drop=True).equals(dff.sort_values(['entity_level', 'mth_date']).reset_index(drop=True)))"
      ],
      "outputs": [
        {
          "output_type": "stream",
          "name": "stdout",
          "text": "DFs resultantes de resampleo con resample() y resampleo alternativo, son iguales? True\n"
        }
      ],
      "execution_count": 46,
      "metadata": {
        "jupyter": {
          "source_hidden": false,
          "outputs_hidden": false
        },
        "nteract": {
          "transient": {
            "deleting": false
          }
        },
        "gather": {
          "logged": 1666273032043
        }
      }
    },
    {
      "cell_type": "code",
      "source": [],
      "outputs": [],
      "execution_count": null,
      "metadata": {
        "jupyter": {
          "source_hidden": false,
          "outputs_hidden": false
        },
        "nteract": {
          "transient": {
            "deleting": false
          }
        }
      }
    },
    {
      "cell_type": "markdown",
      "source": [
        "# Alternativa a rolling mean"
      ],
      "metadata": {
        "nteract": {
          "transient": {
            "deleting": false
          }
        }
      }
    },
    {
      "cell_type": "code",
      "source": [
        "df_merged2 = df_merged.copy()\r\n",
        "window_list = [2]\r\n",
        "metric = 'invoice_count'\r\n",
        "w = window_list[0]\r\n",
        "\r\n",
        "t0 = time.time()\r\n",
        "for i in range(1,max(window_list)+1):\r\n",
        "    df_merged2[f'{metric}_shifted_{str(i)}'] = df_merged2[\r\n",
        "        metric].shift(i).where(df_merged2.entity_level.eq(df_merged2.entity_level.shift(i)), np.nan, ) # df.groupby()['target'].shift()\r\n",
        "\r\n",
        "df_merged2[f'{metric}_mean_{str(w)}'] = (df_merged2[[f'{metric}_shifted_{str(i)}'\r\n",
        "                                                            for i in range(1,w+1)]].mean(axis=1))\r\n",
        "print(\"Tiempo necesario para estimar rolling mean con vectorización\", time.time()-t0)\r\n",
        "df_merged2"
      ],
      "outputs": [
        {
          "output_type": "stream",
          "name": "stdout",
          "text": "Tiempo necesario para estimar rolling mean con vectorización 0.017359495162963867\n"
        },
        {
          "output_type": "execute_result",
          "execution_count": 47,
          "data": {
            "text/plain": "       customer_code      brand   size   mth_date  invoice_count  \\\n0          100019764  Barrilito  Media 2021-05-01            1.0   \n1          100019764  Barrilito  Media 2021-06-01            NaN   \n2          100019764  Barrilito  Media 2021-07-01            1.0   \n16         100037257  Barrilito  Media 2021-05-01            2.0   \n17         100037257  Barrilito  Media 2021-06-01            NaN   \n...              ...        ...    ...        ...            ...   \n159989     101055641  Barrilito  Media 2021-10-01            NaN   \n159990     101055641  Barrilito  Media 2021-11-01            NaN   \n159991     101055641  Barrilito  Media 2021-12-01            NaN   \n159992     101055641  Barrilito  Media 2022-01-01            NaN   \n159993     101055641  Barrilito  Media 2022-02-01            1.0   \n\n        total_volume_hl mth_date_min mth_date_max             entity_level  \\\n0                0.0780   2021-05-01   2021-07-01  100019764BarrilitoMedia   \n1                   NaN   2021-05-01   2021-07-01  100019764BarrilitoMedia   \n2                0.0780   2021-05-01   2021-07-01  100019764BarrilitoMedia   \n16               0.8580   2021-05-01   2022-08-01  100037257BarrilitoMedia   \n17                  NaN   2021-05-01   2022-08-01  100037257BarrilitoMedia   \n...                 ...          ...          ...                      ...   \n159989              NaN   2021-05-01   2022-02-01  101055641BarrilitoMedia   \n159990              NaN   2021-05-01   2022-02-01  101055641BarrilitoMedia   \n159991              NaN   2021-05-01   2022-02-01  101055641BarrilitoMedia   \n159992              NaN   2021-05-01   2022-02-01  101055641BarrilitoMedia   \n159993           0.1716   2021-05-01   2022-02-01  101055641BarrilitoMedia   \n\n        truth  target_shift  target_mean_2  invoice_count_shifted_1  \\\n0        True           NaN            NaN                      NaN   \n1        True           1.0            1.0                      1.0   \n2        True           NaN            1.0                      NaN   \n16       True           NaN            NaN                      NaN   \n17       True           2.0            2.0                      2.0   \n...       ...           ...            ...                      ...   \n159989   True           NaN            NaN                      NaN   \n159990   True           NaN            NaN                      NaN   \n159991   True           NaN            NaN                      NaN   \n159992   True           NaN            NaN                      NaN   \n159993   True           NaN            NaN                      NaN   \n\n        invoice_count_shifted_2  invoice_count_mean_2  \n0                           NaN                   NaN  \n1                           NaN                   1.0  \n2                           1.0                   1.0  \n16                          NaN                   NaN  \n17                          NaN                   2.0  \n...                         ...                   ...  \n159989                      NaN                   NaN  \n159990                      NaN                   NaN  \n159991                      NaN                   NaN  \n159992                      NaN                   NaN  \n159993                      NaN                   NaN  \n\n[101424 rows x 15 columns]",
            "text/html": "<div>\n<style scoped>\n    .dataframe tbody tr th:only-of-type {\n        vertical-align: middle;\n    }\n\n    .dataframe tbody tr th {\n        vertical-align: top;\n    }\n\n    .dataframe thead th {\n        text-align: right;\n    }\n</style>\n<table border=\"1\" class=\"dataframe\">\n  <thead>\n    <tr style=\"text-align: right;\">\n      <th></th>\n      <th>customer_code</th>\n      <th>brand</th>\n      <th>size</th>\n      <th>mth_date</th>\n      <th>invoice_count</th>\n      <th>total_volume_hl</th>\n      <th>mth_date_min</th>\n      <th>mth_date_max</th>\n      <th>entity_level</th>\n      <th>truth</th>\n      <th>target_shift</th>\n      <th>target_mean_2</th>\n      <th>invoice_count_shifted_1</th>\n      <th>invoice_count_shifted_2</th>\n      <th>invoice_count_mean_2</th>\n    </tr>\n  </thead>\n  <tbody>\n    <tr>\n      <th>0</th>\n      <td>100019764</td>\n      <td>Barrilito</td>\n      <td>Media</td>\n      <td>2021-05-01</td>\n      <td>1.0</td>\n      <td>0.0780</td>\n      <td>2021-05-01</td>\n      <td>2021-07-01</td>\n      <td>100019764BarrilitoMedia</td>\n      <td>True</td>\n      <td>NaN</td>\n      <td>NaN</td>\n      <td>NaN</td>\n      <td>NaN</td>\n      <td>NaN</td>\n    </tr>\n    <tr>\n      <th>1</th>\n      <td>100019764</td>\n      <td>Barrilito</td>\n      <td>Media</td>\n      <td>2021-06-01</td>\n      <td>NaN</td>\n      <td>NaN</td>\n      <td>2021-05-01</td>\n      <td>2021-07-01</td>\n      <td>100019764BarrilitoMedia</td>\n      <td>True</td>\n      <td>1.0</td>\n      <td>1.0</td>\n      <td>1.0</td>\n      <td>NaN</td>\n      <td>1.0</td>\n    </tr>\n    <tr>\n      <th>2</th>\n      <td>100019764</td>\n      <td>Barrilito</td>\n      <td>Media</td>\n      <td>2021-07-01</td>\n      <td>1.0</td>\n      <td>0.0780</td>\n      <td>2021-05-01</td>\n      <td>2021-07-01</td>\n      <td>100019764BarrilitoMedia</td>\n      <td>True</td>\n      <td>NaN</td>\n      <td>1.0</td>\n      <td>NaN</td>\n      <td>1.0</td>\n      <td>1.0</td>\n    </tr>\n    <tr>\n      <th>16</th>\n      <td>100037257</td>\n      <td>Barrilito</td>\n      <td>Media</td>\n      <td>2021-05-01</td>\n      <td>2.0</td>\n      <td>0.8580</td>\n      <td>2021-05-01</td>\n      <td>2022-08-01</td>\n      <td>100037257BarrilitoMedia</td>\n      <td>True</td>\n      <td>NaN</td>\n      <td>NaN</td>\n      <td>NaN</td>\n      <td>NaN</td>\n      <td>NaN</td>\n    </tr>\n    <tr>\n      <th>17</th>\n      <td>100037257</td>\n      <td>Barrilito</td>\n      <td>Media</td>\n      <td>2021-06-01</td>\n      <td>NaN</td>\n      <td>NaN</td>\n      <td>2021-05-01</td>\n      <td>2022-08-01</td>\n      <td>100037257BarrilitoMedia</td>\n      <td>True</td>\n      <td>2.0</td>\n      <td>2.0</td>\n      <td>2.0</td>\n      <td>NaN</td>\n      <td>2.0</td>\n    </tr>\n    <tr>\n      <th>...</th>\n      <td>...</td>\n      <td>...</td>\n      <td>...</td>\n      <td>...</td>\n      <td>...</td>\n      <td>...</td>\n      <td>...</td>\n      <td>...</td>\n      <td>...</td>\n      <td>...</td>\n      <td>...</td>\n      <td>...</td>\n      <td>...</td>\n      <td>...</td>\n      <td>...</td>\n    </tr>\n    <tr>\n      <th>159989</th>\n      <td>101055641</td>\n      <td>Barrilito</td>\n      <td>Media</td>\n      <td>2021-10-01</td>\n      <td>NaN</td>\n      <td>NaN</td>\n      <td>2021-05-01</td>\n      <td>2022-02-01</td>\n      <td>101055641BarrilitoMedia</td>\n      <td>True</td>\n      <td>NaN</td>\n      <td>NaN</td>\n      <td>NaN</td>\n      <td>NaN</td>\n      <td>NaN</td>\n    </tr>\n    <tr>\n      <th>159990</th>\n      <td>101055641</td>\n      <td>Barrilito</td>\n      <td>Media</td>\n      <td>2021-11-01</td>\n      <td>NaN</td>\n      <td>NaN</td>\n      <td>2021-05-01</td>\n      <td>2022-02-01</td>\n      <td>101055641BarrilitoMedia</td>\n      <td>True</td>\n      <td>NaN</td>\n      <td>NaN</td>\n      <td>NaN</td>\n      <td>NaN</td>\n      <td>NaN</td>\n    </tr>\n    <tr>\n      <th>159991</th>\n      <td>101055641</td>\n      <td>Barrilito</td>\n      <td>Media</td>\n      <td>2021-12-01</td>\n      <td>NaN</td>\n      <td>NaN</td>\n      <td>2021-05-01</td>\n      <td>2022-02-01</td>\n      <td>101055641BarrilitoMedia</td>\n      <td>True</td>\n      <td>NaN</td>\n      <td>NaN</td>\n      <td>NaN</td>\n      <td>NaN</td>\n      <td>NaN</td>\n    </tr>\n    <tr>\n      <th>159992</th>\n      <td>101055641</td>\n      <td>Barrilito</td>\n      <td>Media</td>\n      <td>2022-01-01</td>\n      <td>NaN</td>\n      <td>NaN</td>\n      <td>2021-05-01</td>\n      <td>2022-02-01</td>\n      <td>101055641BarrilitoMedia</td>\n      <td>True</td>\n      <td>NaN</td>\n      <td>NaN</td>\n      <td>NaN</td>\n      <td>NaN</td>\n      <td>NaN</td>\n    </tr>\n    <tr>\n      <th>159993</th>\n      <td>101055641</td>\n      <td>Barrilito</td>\n      <td>Media</td>\n      <td>2022-02-01</td>\n      <td>1.0</td>\n      <td>0.1716</td>\n      <td>2021-05-01</td>\n      <td>2022-02-01</td>\n      <td>101055641BarrilitoMedia</td>\n      <td>True</td>\n      <td>NaN</td>\n      <td>NaN</td>\n      <td>NaN</td>\n      <td>NaN</td>\n      <td>NaN</td>\n    </tr>\n  </tbody>\n</table>\n<p>101424 rows × 15 columns</p>\n</div>"
          },
          "metadata": {}
        }
      ],
      "execution_count": 47,
      "metadata": {
        "jupyter": {
          "source_hidden": false,
          "outputs_hidden": false
        },
        "nteract": {
          "transient": {
            "deleting": false
          }
        },
        "gather": {
          "logged": 1666273032313
        }
      }
    },
    {
      "cell_type": "code",
      "source": [
        "columns = data_level + [f'{metric}_mean_{str(w)}']\r\n",
        "t0 = time.time()\r\n",
        "df = df.merge(df_merged2[columns], on=data_level, how='left')\r\n",
        "print(\"Tiempo necesario para mergear df original con el de sampleo alternativo\", time.time()-t0)\r\n",
        "#df"
      ],
      "outputs": [
        {
          "output_type": "stream",
          "name": "stdout",
          "text": "Tiempo necesario para mergear df original con el de sampleo alternativo 0.0645759105682373\n"
        }
      ],
      "execution_count": 48,
      "metadata": {
        "jupyter": {
          "source_hidden": false,
          "outputs_hidden": false
        },
        "nteract": {
          "transient": {
            "deleting": false
          }
        },
        "gather": {
          "logged": 1666273032505
        }
      }
    },
    {
      "cell_type": "code",
      "source": [],
      "outputs": [],
      "execution_count": null,
      "metadata": {
        "jupyter": {
          "source_hidden": false,
          "outputs_hidden": false
        },
        "nteract": {
          "transient": {
            "deleting": false
          }
        }
      }
    },
    {
      "cell_type": "code",
      "source": [],
      "outputs": [],
      "execution_count": null,
      "metadata": {
        "jupyter": {
          "source_hidden": false,
          "outputs_hidden": false
        },
        "nteract": {
          "transient": {
            "deleting": false
          }
        }
      }
    },
    {
      "cell_type": "markdown",
      "source": [
        "Ejercicio 1: Dado un dataframe con x cantidad de grupos (definidos por 'customer_code', 'brand', 'size'), se desea eliminar todos aquellos grupos cuyo máximo valor de la variable 'total_volume_hl' es menor a THRESHOLD. \r\n",
        "Hint: Dataframe.transform(max) está optimizado para trabajar por grupo."
      ],
      "metadata": {
        "nteract": {
          "transient": {
            "deleting": false
          }
        }
      }
    },
    {
      "cell_type": "code",
      "source": [
        "THRESHOLD = 0.0790\r\n",
        "df_ejercicio = df[['customer_code', 'brand', 'size', 'mth_date', 'total_volume_hl']]\r\n",
        "df_ejercicio"
      ],
      "outputs": [],
      "execution_count": null,
      "metadata": {
        "jupyter": {
          "source_hidden": false,
          "outputs_hidden": false
        },
        "nteract": {
          "transient": {
            "deleting": false
          }
        },
        "gather": {
          "logged": 1666050258541
        }
      }
    },
    {
      "cell_type": "code",
      "source": [],
      "outputs": [],
      "execution_count": null,
      "metadata": {
        "jupyter": {
          "source_hidden": false,
          "outputs_hidden": false
        },
        "nteract": {
          "transient": {
            "deleting": false
          }
        }
      }
    },
    {
      "cell_type": "markdown",
      "source": [
        "Ejercicio 2: Siguiendo la misma idea de agrupamiento, calcular el valor medio y la suma de la variable de target, por grupo, para aquellos valores dentro de cada grupo que se encuentren entre la fecha máxima por grupo y una mínima dada como la máxima mencionada - 6 meses. Hint: chequear métoodo agg()."
      ],
      "metadata": {
        "nteract": {
          "transient": {
            "deleting": false
          }
        }
      }
    },
    {
      "cell_type": "code",
      "source": [],
      "outputs": [],
      "execution_count": null,
      "metadata": {
        "jupyter": {
          "source_hidden": false,
          "outputs_hidden": false
        },
        "nteract": {
          "transient": {
            "deleting": false
          }
        }
      }
    }
  ],
  "metadata": {
    "kernelspec": {
      "name": "python38-azureml",
      "language": "python",
      "display_name": "Python 3.8 - AzureML"
    },
    "language_info": {
      "name": "python",
      "version": "3.8.5",
      "mimetype": "text/x-python",
      "codemirror_mode": {
        "name": "ipython",
        "version": 3
      },
      "pygments_lexer": "ipython3",
      "nbconvert_exporter": "python",
      "file_extension": ".py"
    },
    "kernel_info": {
      "name": "python38-azureml"
    },
    "microsoft": {
      "host": {
        "AzureML": {
          "notebookHasBeenCompleted": true
        }
      }
    },
    "nteract": {
      "version": "nteract-front-end@1.0.0"
    }
  },
  "nbformat": 4,
  "nbformat_minor": 2
}